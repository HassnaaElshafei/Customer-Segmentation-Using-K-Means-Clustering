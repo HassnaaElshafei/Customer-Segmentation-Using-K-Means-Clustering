{
 "cells": [
  {
   "cell_type": "code",
   "execution_count": 30,
   "id": "ab6fee33",
   "metadata": {},
   "outputs": [],
   "source": [
    "import pandas as pd\n",
    "import numpy as np\n",
    "from sklearn.preprocessing import MinMaxScaler\n",
    "from sklearn.cluster import KMeans\n",
    "import matplotlib.pyplot as plt\n",
    "import seaborn as sns \n"
   ]
  },
  {
   "cell_type": "code",
   "execution_count": 31,
   "id": "aafb8219",
   "metadata": {},
   "outputs": [
    {
     "name": "stdout",
     "output_type": "stream",
     "text": [
      "<class 'pandas.core.frame.DataFrame'>\n",
      "RangeIndex: 541909 entries, 0 to 541908\n",
      "Data columns (total 8 columns):\n",
      " #   Column       Non-Null Count   Dtype  \n",
      "---  ------       --------------   -----  \n",
      " 0   InvoiceNo    541909 non-null  object \n",
      " 1   StockCode    541909 non-null  object \n",
      " 2   Description  540455 non-null  object \n",
      " 3   Quantity     541909 non-null  int64  \n",
      " 4   InvoiceDate  541909 non-null  object \n",
      " 5   UnitPrice    541909 non-null  float64\n",
      " 6   CustomerID   406829 non-null  float64\n",
      " 7   Country      541909 non-null  object \n",
      "dtypes: float64(2), int64(1), object(5)\n",
      "memory usage: 33.1+ MB\n",
      "None\n",
      "InvoiceNo           0\n",
      "StockCode           0\n",
      "Description      1454\n",
      "Quantity            0\n",
      "InvoiceDate         0\n",
      "UnitPrice           0\n",
      "CustomerID     135080\n",
      "Country             0\n",
      "dtype: int64\n",
      "InvoiceNo      0\n",
      "StockCode      0\n",
      "Description    0\n",
      "Quantity       0\n",
      "InvoiceDate    0\n",
      "UnitPrice      0\n",
      "CustomerID     0\n",
      "Country        0\n",
      "dtype: int64\n"
     ]
    }
   ],
   "source": [
    "# loading data\n",
    "data = pd.read_csv('Online_Retail.csv')\n",
    "print(data.info())\n",
    "\n",
    "# counting nulls of each column\n",
    "nulls_count = data.isnull().sum()\n",
    "print(nulls_count)\n",
    "\n",
    "# removing rows with nulls\n",
    "data.dropna(inplace=True)\n",
    "\n",
    "# check for nulls again\n",
    "nulls_count = data.isnull().sum()\n",
    "print(nulls_count)"
   ]
  },
  {
   "cell_type": "code",
   "execution_count": 32,
   "id": "ca48b3a1",
   "metadata": {},
   "outputs": [
    {
     "name": "stdout",
     "output_type": "stream",
     "text": [
      "Duplicate rows:\n",
      "    InvoiceNo StockCode                    Description  Quantity  \\\n",
      "485    536409     22111   SCOTTIE DOG HOT WATER BOTTLE         1   \n",
      "489    536409     22866  HAND WARMER SCOTTY DOG DESIGN         1   \n",
      "\n",
      "         InvoiceDate  UnitPrice  CustomerID         Country  \n",
      "485  12/1/2010 11:45       4.95     17908.0  United Kingdom  \n",
      "489  12/1/2010 11:45       2.10     17908.0  United Kingdom  \n",
      "(401604, 8)\n"
     ]
    }
   ],
   "source": [
    "# checking if there are duplicates\n",
    "duplicates = data[data.duplicated(keep=False)]\n",
    "\n",
    "print(\"Duplicate rows:\")\n",
    "print(duplicates.head(2))\n",
    "\n",
    "# removes duplicate rows\n",
    "data.drop_duplicates(inplace=True) \n",
    "\n",
    "print(data.shape)\n"
   ]
  },
  {
   "cell_type": "code",
   "execution_count": 33,
   "id": "e62ee356",
   "metadata": {},
   "outputs": [],
   "source": [
    "# data format conversion\n",
    "data['InvoiceDate'] = pd.to_datetime(data['InvoiceDate'])\n"
   ]
  },
  {
   "cell_type": "code",
   "execution_count": 34,
   "id": "8e69d190",
   "metadata": {},
   "outputs": [
    {
     "name": "stdout",
     "output_type": "stream",
     "text": [
      "            TotalSpending  PurchaseFrequency  AverageOrderValue  \\\n",
      "CustomerID                                                        \n",
      "12346.0               0.0                  2           0.000000   \n",
      "12346.0               0.0                  2           0.000000   \n",
      "12347.0            4310.0                  7         615.714286   \n",
      "12347.0            4310.0                  7         615.714286   \n",
      "12347.0            4310.0                  7         615.714286   \n",
      "\n",
      "           TimeSinceLastPurchase  \n",
      "CustomerID                        \n",
      "12346.0        325 days 02:33:00  \n",
      "12346.0        325 days 02:33:00  \n",
      "12347.0          1 days 20:58:00  \n",
      "12347.0          1 days 20:58:00  \n",
      "12347.0          1 days 20:58:00  \n",
      "(401604, 4)\n",
      "            TotalSpending  PurchaseFrequency  AverageOrderValue  \\\n",
      "CustomerID                                                        \n",
      "12346.0               0.0                  2           0.000000   \n",
      "12346.0               0.0                  2           0.000000   \n",
      "12347.0            4310.0                  7         615.714286   \n",
      "12347.0            4310.0                  7         615.714286   \n",
      "12347.0            4310.0                  7         615.714286   \n",
      "\n",
      "            TimeSinceLastPurchase  \n",
      "CustomerID                         \n",
      "12346.0                       325  \n",
      "12346.0                       325  \n",
      "12347.0                         1  \n",
      "12347.0                         1  \n",
      "12347.0                         1  \n",
      "TotalSpending            float64\n",
      "PurchaseFrequency          int64\n",
      "AverageOrderValue        float64\n",
      "TimeSinceLastPurchase      int64\n",
      "dtype: object\n"
     ]
    }
   ],
   "source": [
    "# creating new features\n",
    "\n",
    "# calculate total spending per customer\n",
    "total_spending = data.groupby('CustomerID')[['Quantity', 'UnitPrice']].apply(\n",
    "    lambda x: (x['Quantity'] * x['UnitPrice']).sum()).reset_index()\n",
    "total_spending.columns = ['CustomerID', 'TotalSpending']\n",
    "\n",
    "# calculate purchase frequency per customer\n",
    "purchase_frequency = data.groupby('CustomerID')['InvoiceNo'].nunique().reset_index()\n",
    "purchase_frequency.columns = ['CustomerID', 'PurchaseFrequency']\n",
    "\n",
    "# calculate average order value per customer\n",
    "aov = data.groupby('CustomerID').apply(\n",
    "    lambda x: (x['Quantity'] * x['UnitPrice']).sum() / x['InvoiceNo'].nunique()).reset_index()\n",
    "aov.columns = ['CustomerID', 'AverageOrderValue']\n",
    "\n",
    "# calculate time since last purchase per customer\n",
    "max_date = data['InvoiceDate'].max()\n",
    "data['TimeSinceLastPurchase'] = max_date - data['InvoiceDate']\n",
    "recency = data.groupby('CustomerID')['TimeSinceLastPurchase'].min().reset_index()\n",
    "recency.columns = ['CustomerID', 'TimeSinceLastPurchase']\n",
    "\n",
    "# merge the new features into a single DataFrame and set 'CustomerID' as the index\n",
    "customer_data = data[['CustomerID']]\n",
    "customer_data.set_index('CustomerID', inplace=True)  \n",
    "\n",
    "# merge the new features into the DataFrame\n",
    "customer_data = customer_data.join(total_spending.set_index('CustomerID'))\n",
    "customer_data = customer_data.join(purchase_frequency.set_index('CustomerID'))\n",
    "customer_data = customer_data.join(aov.set_index('CustomerID'))\n",
    "customer_data = customer_data.join(recency.set_index('CustomerID'))\n",
    "\n",
    "print(customer_data.head(5))\n",
    "print(customer_data.shape)\n",
    "\n",
    "# making TimeSinceLastPurchase have days only\n",
    "customer_data['TimeSinceLastPurchase'] = customer_data['TimeSinceLastPurchase'].dt.days\n",
    "\n",
    "print(customer_data.head(5))\n",
    "data_types = customer_data.dtypes\n",
    "print(data_types)"
   ]
  },
  {
   "cell_type": "code",
   "execution_count": 35,
   "id": "084d34a0",
   "metadata": {},
   "outputs": [
    {
     "name": "stdout",
     "output_type": "stream",
     "text": [
      "   TotalSpending  PurchaseFrequency  AverageOrderValue  TimeSinceLastPurchase\n",
      "0       0.015109           0.004049           0.408529               0.871314\n",
      "1       0.015109           0.004049           0.408529               0.871314\n",
      "2       0.030297           0.024291           0.467194               0.002681\n",
      "3       0.030297           0.024291           0.467194               0.002681\n",
      "4       0.030297           0.024291           0.467194               0.002681\n"
     ]
    }
   ],
   "source": [
    "# feature scaling using Min Max scaling method\n",
    "scaler = MinMaxScaler()\n",
    "scaled_data = scaler.fit_transform(customer_data)\n",
    "customer_data = pd.DataFrame(scaled_data, columns=customer_data.columns)\n",
    "print(customer_data.head(5))\n"
   ]
  },
  {
   "cell_type": "code",
   "execution_count": 36,
   "id": "3cffb8c2",
   "metadata": {},
   "outputs": [
    {
     "name": "stderr",
     "output_type": "stream",
     "text": [
      "C:\\Users\\hassn\\anaconda3\\envs\\newenv\\lib\\site-packages\\sklearn\\cluster\\_kmeans.py:1416: FutureWarning: The default value of `n_init` will change from 10 to 'auto' in 1.4. Set the value of `n_init` explicitly to suppress the warning\n",
      "  super()._check_params_vs_input(X, default_n_init=10)\n",
      "C:\\Users\\hassn\\anaconda3\\envs\\newenv\\lib\\site-packages\\sklearn\\cluster\\_kmeans.py:1416: FutureWarning: The default value of `n_init` will change from 10 to 'auto' in 1.4. Set the value of `n_init` explicitly to suppress the warning\n",
      "  super()._check_params_vs_input(X, default_n_init=10)\n",
      "C:\\Users\\hassn\\anaconda3\\envs\\newenv\\lib\\site-packages\\sklearn\\cluster\\_kmeans.py:1416: FutureWarning: The default value of `n_init` will change from 10 to 'auto' in 1.4. Set the value of `n_init` explicitly to suppress the warning\n",
      "  super()._check_params_vs_input(X, default_n_init=10)\n",
      "C:\\Users\\hassn\\anaconda3\\envs\\newenv\\lib\\site-packages\\sklearn\\cluster\\_kmeans.py:1416: FutureWarning: The default value of `n_init` will change from 10 to 'auto' in 1.4. Set the value of `n_init` explicitly to suppress the warning\n",
      "  super()._check_params_vs_input(X, default_n_init=10)\n",
      "C:\\Users\\hassn\\anaconda3\\envs\\newenv\\lib\\site-packages\\sklearn\\cluster\\_kmeans.py:1416: FutureWarning: The default value of `n_init` will change from 10 to 'auto' in 1.4. Set the value of `n_init` explicitly to suppress the warning\n",
      "  super()._check_params_vs_input(X, default_n_init=10)\n",
      "C:\\Users\\hassn\\anaconda3\\envs\\newenv\\lib\\site-packages\\sklearn\\cluster\\_kmeans.py:1416: FutureWarning: The default value of `n_init` will change from 10 to 'auto' in 1.4. Set the value of `n_init` explicitly to suppress the warning\n",
      "  super()._check_params_vs_input(X, default_n_init=10)\n",
      "C:\\Users\\hassn\\anaconda3\\envs\\newenv\\lib\\site-packages\\sklearn\\cluster\\_kmeans.py:1416: FutureWarning: The default value of `n_init` will change from 10 to 'auto' in 1.4. Set the value of `n_init` explicitly to suppress the warning\n",
      "  super()._check_params_vs_input(X, default_n_init=10)\n",
      "C:\\Users\\hassn\\anaconda3\\envs\\newenv\\lib\\site-packages\\sklearn\\cluster\\_kmeans.py:1416: FutureWarning: The default value of `n_init` will change from 10 to 'auto' in 1.4. Set the value of `n_init` explicitly to suppress the warning\n",
      "  super()._check_params_vs_input(X, default_n_init=10)\n",
      "C:\\Users\\hassn\\anaconda3\\envs\\newenv\\lib\\site-packages\\sklearn\\cluster\\_kmeans.py:1416: FutureWarning: The default value of `n_init` will change from 10 to 'auto' in 1.4. Set the value of `n_init` explicitly to suppress the warning\n",
      "  super()._check_params_vs_input(X, default_n_init=10)\n"
     ]
    },
    {
     "data": {
      "image/png": "[encoded data removed]",
      "text/plain": [
       "<Figure size 640x480 with 1 Axes>"
      ]
     },
     "metadata": {},
     "output_type": "display_data"
    }
   ],
   "source": [
    "# finding the optimal no. of clusters through elbow method\n",
    "distortions = []\n",
    "K = range(1, 10)\n",
    "for k in K:\n",
    "    kmeansModel = KMeans(n_clusters=k)\n",
    "    kmeansModel.fit(customer_data)\n",
    "    distortions.append(kmeansModel.inertia_)\n",
    "\n",
    "plt.plot(K, distortions, 'bx-')\n",
    "plt.xlabel('Number of clusters')\n",
    "plt.ylabel('Distortion (explained variance)')\n",
    "plt.title('The Elbow Method')\n",
    "plt.show()\n"
   ]
  },
  {
   "cell_type": "code",
   "execution_count": 37,
   "id": "3684c97a",
   "metadata": {},
   "outputs": [
    {
     "name": "stdout",
     "output_type": "stream",
     "text": [
      "   TotalSpending  PurchaseFrequency  AverageOrderValue  TimeSinceLastPurchase  \\\n",
      "0       0.015109           0.004049           0.408529               0.871314   \n",
      "1       0.015109           0.004049           0.408529               0.871314   \n",
      "2       0.030297           0.024291           0.467194               0.002681   \n",
      "3       0.030297           0.024291           0.467194               0.002681   \n",
      "4       0.030297           0.024291           0.467194               0.002681   \n",
      "\n",
      "   Cluster  \n",
      "0        2  \n",
      "1        2  \n",
      "2        1  \n",
      "3        1  \n",
      "4        1  \n"
     ]
    }
   ],
   "source": [
    "# after detecting elbow point on the graph is equal to 3\n",
    "# initializing K-means with 3 and fitting the model to customer_data\n",
    "k = 3\n",
    "kmeans = KMeans(n_clusters=k, n_init=10, random_state=32)\n",
    "\n",
    "kmeans.fit(customer_data)\n",
    "\n",
    "# adding cluster labels to data\n",
    "customer_data['Cluster'] = kmeans.labels_\n",
    "\n",
    "print(customer_data.head(5))"
   ]
  },
  {
   "cell_type": "code",
   "execution_count": 38,
   "id": "0fba1dc2",
   "metadata": {},
   "outputs": [
    {
     "name": "stdout",
     "output_type": "stream",
     "text": [
      "Cluster\n",
      "0     29542\n",
      "2     37704\n",
      "1    334358\n",
      "Name: count, dtype: int64\n"
     ]
    }
   ],
   "source": [
    "print(customer_data['Cluster'].value_counts(ascending=True))"
   ]
  },
  {
   "cell_type": "code",
   "execution_count": 39,
   "id": "74584a97",
   "metadata": {},
   "outputs": [
    {
     "name": "stdout",
     "output_type": "stream",
     "text": [
      "   Cluster  TotalSpending  PurchaseFrequency  AverageOrderValue  \\\n",
      "0        0       0.304268           0.673774           0.476042   \n",
      "1        1       0.036201           0.047580           0.448112   \n",
      "2        2       0.018647           0.009255           0.443408   \n",
      "\n",
      "   TimeSinceLastPurchase  \n",
      "0               0.002613  \n",
      "1               0.060784  \n",
      "2               0.570562  \n"
     ]
    }
   ],
   "source": [
    "cluster_mean = customer_data.groupby('Cluster')[\n",
    "    ['TotalSpending', 'PurchaseFrequency', 'AverageOrderValue', 'TimeSinceLastPurchase']].mean().reset_index()\n",
    "print(cluster_mean)\n",
    "cluster_mean['TotalSpending'] = cluster_mean['TotalSpending'].astype(float)\n",
    "cluster_mean['PurchaseFrequency'] = cluster_mean['PurchaseFrequency'].astype(float)\n",
    "cluster_mean['AverageOrderValue'] = cluster_mean['AverageOrderValue'].astype(float)\n",
    "cluster_mean['TimeSinceLastPurchase'] = cluster_mean['TimeSinceLastPurchase'].astype(float)\n"
   ]
  },
  {
   "cell_type": "code",
   "execution_count": 40,
   "id": "8f66808c",
   "metadata": {},
   "outputs": [
    {
     "name": "stderr",
     "output_type": "stream",
     "text": [
      "C:\\Users\\hassn\\AppData\\Local\\Temp\\ipykernel_10932\\646763735.py:4: FutureWarning: \n",
      "\n",
      "Passing `palette` without assigning `hue` is deprecated and will be removed in v0.14.0. Assign the `x` variable to `hue` and set `legend=False` for the same effect.\n",
      "\n",
      "  sns.barplot(data=cluster_mean, x='Cluster', y='TotalSpending', ax=axes[0], palette='rainbow')\n",
      "C:\\Users\\hassn\\AppData\\Local\\Temp\\ipykernel_10932\\646763735.py:5: FutureWarning: \n",
      "\n",
      "Passing `palette` without assigning `hue` is deprecated and will be removed in v0.14.0. Assign the `x` variable to `hue` and set `legend=False` for the same effect.\n",
      "\n",
      "  sns.barplot(data=cluster_mean, x='Cluster', y='PurchaseFrequency', ax=axes[1], palette='rainbow')\n",
      "C:\\Users\\hassn\\AppData\\Local\\Temp\\ipykernel_10932\\646763735.py:6: FutureWarning: \n",
      "\n",
      "Passing `palette` without assigning `hue` is deprecated and will be removed in v0.14.0. Assign the `x` variable to `hue` and set `legend=False` for the same effect.\n",
      "\n",
      "  sns.barplot(data=cluster_mean, x='Cluster', y='AverageOrderValue', ax=axes[2], palette='rainbow')\n",
      "C:\\Users\\hassn\\AppData\\Local\\Temp\\ipykernel_10932\\646763735.py:7: FutureWarning: \n",
      "\n",
      "Passing `palette` without assigning `hue` is deprecated and will be removed in v0.14.0. Assign the `x` variable to `hue` and set `legend=False` for the same effect.\n",
      "\n",
      "  sns.barplot(data=cluster_mean, x='Cluster', y='TimeSinceLastPurchase', ax=axes[3], palette='rainbow')\n"
     ]
    },
    {
     "data": {
      "image/png": "[encoded data removed]",
      "text/plain": [
       "<Figure size 400x600 with 4 Axes>"
      ]
     },
     "metadata": {},
     "output_type": "display_data"
    }
   ],
   "source": [
    "\n",
    "fig, axes = plt.subplots(nrows=4, figsize=(4, 6))\n",
    "\n",
    "# Plot barplots for each variable with rainbow palette\n",
    "sns.barplot(data=cluster_mean, x='Cluster', y='TotalSpending', ax=axes[0], palette='rainbow')\n",
    "sns.barplot(data=cluster_mean, x='Cluster', y='PurchaseFrequency', ax=axes[1], palette='rainbow')\n",
    "sns.barplot(data=cluster_mean, x='Cluster', y='AverageOrderValue', ax=axes[2], palette='rainbow')\n",
    "sns.barplot(data=cluster_mean, x='Cluster', y='TimeSinceLastPurchase', ax=axes[3], palette='rainbow')\n",
    "\n",
    "plt.tight_layout()\n",
    "plt.show()"
   ]
  },
  {
   "cell_type": "code",
   "execution_count": null,
   "id": "3e760ee6",
   "metadata": {},
   "outputs": [],
   "source": []
  }
 ],
 "metadata": {
  "kernelspec": {
   "display_name": "Python 3 (ipykernel)",
   "language": "python",
   "name": "python3"
  },
  "language_info": {
   "codemirror_mode": {
    "name": "ipython",
    "version": 3
   },
   "file_extension": ".py",
   "mimetype": "text/x-python",
   "name": "python",
   "nbconvert_exporter": "python",
   "pygments_lexer": "ipython3",
   "version": "3.9.18"
  }
 },
 "nbformat": 4,
 "nbformat_minor": 5
}
